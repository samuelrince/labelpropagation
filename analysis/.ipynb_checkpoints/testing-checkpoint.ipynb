{
 "cells": [
  {
   "cell_type": "code",
   "execution_count": 1,
   "id": "numerical-platinum",
   "metadata": {},
   "outputs": [],
   "source": [
    "import os\n",
    "os.chdir('..')"
   ]
  },
  {
   "cell_type": "code",
   "execution_count": 2,
   "id": "casual-gathering",
   "metadata": {},
   "outputs": [],
   "source": [
    "import re\n",
    "\n",
    "import pandas as pd"
   ]
  },
  {
   "cell_type": "code",
   "execution_count": 40,
   "id": "respiratory-greenhouse",
   "metadata": {},
   "outputs": [],
   "source": [
    "def read_data(path):\n",
    "    data = list()\n",
    "    with open(path, 'r') as f:\n",
    "        for line in f.readlines():\n",
    "            if len(line) > 1:\n",
    "                line = re.sub(r'\\(|\\)', '', line)\n",
    "                line = line.strip().split(',')\n",
    "                id_ = int(line[0])\n",
    "                init_label = bool(line[1])\n",
    "                array = [float(e) for e in line[2:]]\n",
    "                data.append([id_, init_label, *array])\n",
    "    return data"
   ]
  },
  {
   "cell_type": "code",
   "execution_count": 41,
   "id": "bf5eb92d-a7f7-49f1-aa7d-38c17d382a2f",
   "metadata": {},
   "outputs": [],
   "source": [
    "data = read_data('output/test.csv')"
   ]
  },
  {
   "cell_type": "code",
   "execution_count": 42,
   "id": "4f9b6061-d5a1-4703-b35a-4fe9ec4a269c",
   "metadata": {},
   "outputs": [],
   "source": [
    "for item in data:\n",
    "    if len(data) < 15:\n",
    "        print(data)"
   ]
  },
  {
   "cell_type": "code",
   "execution_count": 43,
   "id": "1e52c176-5c74-477d-930f-094971d87971",
   "metadata": {},
   "outputs": [
    {
     "data": {
      "text/plain": [
       "[454,\n",
       " True,\n",
       " 0.0,\n",
       " 0.0,\n",
       " 0.0,\n",
       " 0.0,\n",
       " 0.0,\n",
       " 0.0,\n",
       " 0.0,\n",
       " 0.0,\n",
       " 0.0,\n",
       " 0.0,\n",
       " 0.0,\n",
       " 0.0,\n",
       " 0.0,\n",
       " 0.0,\n",
       " 0.0,\n",
       " 0.0,\n",
       " 0.0,\n",
       " 0.0,\n",
       " 0.0,\n",
       " 0.0,\n",
       " 0.0,\n",
       " 0.0,\n",
       " 0.0,\n",
       " 0.0,\n",
       " 0.0,\n",
       " 0.0,\n",
       " 0.0,\n",
       " 1.0,\n",
       " 0.0,\n",
       " 0.0,\n",
       " 0.0,\n",
       " 0.0,\n",
       " 0.0,\n",
       " 0.0,\n",
       " 0.0,\n",
       " 0.0,\n",
       " 0.0,\n",
       " 0.0,\n",
       " 0.0,\n",
       " 0.0,\n",
       " 0.0,\n",
       " 0.0]"
      ]
     },
     "execution_count": 43,
     "metadata": {},
     "output_type": "execute_result"
    }
   ],
   "source": [
    "data[0]"
   ]
  },
  {
   "cell_type": "code",
   "execution_count": null,
   "id": "1258b895-9d7b-46f4-8dbe-a7c2ede36549",
   "metadata": {},
   "outputs": [],
   "source": []
  }
 ],
 "metadata": {
  "kernelspec": {
   "display_name": "Python 3",
   "language": "python",
   "name": "python3"
  },
  "language_info": {
   "codemirror_mode": {
    "name": "ipython",
    "version": 3
   },
   "file_extension": ".py",
   "mimetype": "text/x-python",
   "name": "python",
   "nbconvert_exporter": "python",
   "pygments_lexer": "ipython3",
   "version": "3.8.2"
  }
 },
 "nbformat": 4,
 "nbformat_minor": 5
}
