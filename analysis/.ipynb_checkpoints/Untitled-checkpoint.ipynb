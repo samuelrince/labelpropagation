{
 "cells": [
  {
   "cell_type": "code",
   "execution_count": 1,
   "id": "2632fd32-9eb1-4131-9822-78002ba1a3a6",
   "metadata": {},
   "outputs": [],
   "source": [
    "import os\n",
    "os.chdir('..')"
   ]
  },
  {
   "cell_type": "code",
   "execution_count": 17,
   "id": "bcab8ef4-f8c4-4615-8556-466412c4ae79",
   "metadata": {},
   "outputs": [],
   "source": [
    "data = list()\n",
    "nodes = set()\n",
    "\n",
    "with open('./com-dblp/com-dblp.all.cmty.txt', 'r') as f:\n",
    "    for i, line in enumerate(f.readlines()):\n",
    "        for node in line.strip().split('\\t'):\n",
    "            if node not in nodes:\n",
    "                nodes.add(int(node))\n",
    "                data.append(f'{node} {i}')"
   ]
  },
  {
   "cell_type": "code",
   "execution_count": 18,
   "id": "7e98ddb8-2a78-414a-916b-0906588f9b1f",
   "metadata": {},
   "outputs": [],
   "source": [
    "with open('./com-dblp/com-dblp.all.cmty.update.txt', 'w+') as f:\n",
    "    for line in data:\n",
    "        f.write(line + '\\n')"
   ]
  },
  {
   "cell_type": "code",
   "execution_count": null,
   "id": "c8307622-a787-4b54-a0a8-c03d2ea9a7db",
   "metadata": {},
   "outputs": [],
   "source": []
  },
  {
   "cell_type": "code",
   "execution_count": 5,
   "id": "807f83f8-088b-4666-ace0-e11355eef8f2",
   "metadata": {},
   "outputs": [],
   "source": [
    "data = list()\n",
    "nodes = set()\n",
    "\n",
    "with open('./com-dblp/com-dblp.all.cmty.txt', 'r') as f:\n",
    "    for i, line in enumerate(f.readlines()):\n",
    "        for node in line.strip().split('\\t'):\n",
    "            if node not in nodes:\n",
    "                nodes.add(int(node))\n",
    "                data.append((int(node), i))"
   ]
  },
  {
   "cell_type": "code",
   "execution_count": 10,
   "id": "143773d9-fd9d-4894-adae-2fe65ad550c1",
   "metadata": {},
   "outputs": [],
   "source": [
    "\n",
    "with open('./com-dblp/com-dblp.ungraph.txt', 'r') as f:\n",
    "    for line in f.readlines():\n",
    "        line = line.strip().split('\\t')\n",
    "        n1 = int(line[0])\n",
    "        n2 = int(line[1])\n",
    "        break"
   ]
  },
  {
   "cell_type": "code",
   "execution_count": null,
   "id": "5ba0d77f-9774-4cf9-8086-798073f29c51",
   "metadata": {},
   "outputs": [],
   "source": []
  }
 ],
 "metadata": {
  "kernelspec": {
   "display_name": "Python 3",
   "language": "python",
   "name": "python3"
  },
  "language_info": {
   "codemirror_mode": {
    "name": "ipython",
    "version": 3
   },
   "file_extension": ".py",
   "mimetype": "text/x-python",
   "name": "python",
   "nbconvert_exporter": "python",
   "pygments_lexer": "ipython3",
   "version": "3.8.2"
  }
 },
 "nbformat": 4,
 "nbformat_minor": 5
}
