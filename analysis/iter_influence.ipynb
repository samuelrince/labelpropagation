{
 "cells": [
  {
   "cell_type": "code",
   "execution_count": 1,
   "id": "5d4a69e4-04a9-41ba-b848-e91f233d3c43",
   "metadata": {},
   "outputs": [],
   "source": [
    "import os\n",
    "os.chdir('..')"
   ]
  },
  {
   "cell_type": "code",
   "execution_count": 2,
   "id": "4e394159-5aee-4bad-b6e4-c454777fcf5b",
   "metadata": {},
   "outputs": [],
   "source": [
    "import re\n",
    "\n",
    "import numpy as np\n",
    "import pandas as pd\n",
    "\n",
    "from sklearn.metrics import accuracy_score"
   ]
  },
  {
   "cell_type": "code",
   "execution_count": 3,
   "id": "0ddbd094-5709-4d5f-8974-02680432f557",
   "metadata": {},
   "outputs": [],
   "source": [
    "import matplotlib.pyplot as plt"
   ]
  },
  {
   "cell_type": "code",
   "execution_count": 3,
   "id": "291a7596-c34f-417f-82e7-5f725f19cbb4",
   "metadata": {},
   "outputs": [],
   "source": [
    "def read_data(path):\n",
    "    data = list()\n",
    "    with open(path, 'r') as f:\n",
    "        for line in f.readlines():\n",
    "            if len(line) > 1:\n",
    "                line = re.sub(r'\\(|\\)', '', line)\n",
    "                line = line.strip().split(',')\n",
    "                id_ = int(line[0])\n",
    "                init_label = line[1] == 'true'\n",
    "                array = [float(e) for e in line[2:]]\n",
    "                data.append([id_, init_label, *array])\n",
    "    return data\n",
    "\n",
    "\n",
    "def read_init_label(path):\n",
    "    data = list()\n",
    "    with open(path, 'r') as f:\n",
    "        for line in f.readlines():\n",
    "            if len(line) > 1:\n",
    "                line = line.strip().split(' ')\n",
    "                id_ = int(line[0])\n",
    "                label = int(line[1])\n",
    "                data.append(label)\n",
    "    \n",
    "    return data\n",
    "\n",
    "\n",
    "def split_data(data):\n",
    "    initial = list()\n",
    "    result = list()\n",
    "    for item in data:\n",
    "        if item[1]:\n",
    "            initial.append(item)\n",
    "        else:\n",
    "            result.append(item)\n",
    "    return initial, result\n",
    "\n",
    "\n",
    "def compute_label(array):\n",
    "    return int(np.argmax(array))"
   ]
  },
  {
   "cell_type": "code",
   "execution_count": 4,
   "id": "3fdecd05-372b-4d6b-958f-82af64735e48",
   "metadata": {},
   "outputs": [],
   "source": [
    "init_label = read_init_label('./email-eu-core/email-Eu-core-department-labels.txt')"
   ]
  },
  {
   "cell_type": "code",
   "execution_count": 11,
   "id": "5cb65659-742d-4198-92bc-a8af392ce173",
   "metadata": {},
   "outputs": [],
   "source": [
    "scores = list()\n",
    "\n",
    "for root, _, files in os.walk('./output/iter_influence/'):\n",
    "    for file in files:\n",
    "        if file.endswith('.txt'):\n",
    "            fp = os.path.join(root, file)\n",
    "            iter_ = int(file.replace('.txt', ''))\n",
    "            data = read_data(fp)\n",
    "            _, res = split_data(data)\n",
    "            \n",
    "            pred = list()\n",
    "            true = list()\n",
    "            for item in res:\n",
    "                id_ = item[0]\n",
    "                array = item[2:]\n",
    "                pred.append(compute_label(array))\n",
    "                true.append(init_label[id_])\n",
    "                \n",
    "            scores.append((iter_, accuracy_score(true, pred)))"
   ]
  },
  {
   "cell_type": "code",
   "execution_count": 12,
   "id": "d8427669-2d2b-4e0b-a8c1-e21127ad3eec",
   "metadata": {},
   "outputs": [
    {
     "data": {
      "text/plain": [
       "[(100, 0.6692913385826772),\n",
       " (90, 0.6692913385826772),\n",
       " (80, 0.6692913385826772),\n",
       " (70, 0.6692913385826772),\n",
       " (60, 0.6692913385826772),\n",
       " (50, 0.6692913385826772),\n",
       " (40, 0.6692913385826772),\n",
       " (30, 0.6692913385826772),\n",
       " (20, 0.6692913385826772),\n",
       " (10, 0.6692913385826772),\n",
       " (2, 0.6771653543307087),\n",
       " (1, 0.6377952755905512)]"
      ]
     },
     "execution_count": 12,
     "metadata": {},
     "output_type": "execute_result"
    }
   ],
   "source": [
    "sorted(scores, key=lambda x: x[0], reverse=True)"
   ]
  },
  {
   "cell_type": "code",
   "execution_count": null,
   "id": "363ff362-894d-4e1a-b230-62d99b5b9ff2",
   "metadata": {},
   "outputs": [],
   "source": []
  }
 ],
 "metadata": {
  "kernelspec": {
   "display_name": "Python 3",
   "language": "python",
   "name": "python3"
  },
  "language_info": {
   "codemirror_mode": {
    "name": "ipython",
    "version": 3
   },
   "file_extension": ".py",
   "mimetype": "text/x-python",
   "name": "python",
   "nbconvert_exporter": "python",
   "pygments_lexer": "ipython3",
   "version": "3.8.2"
  }
 },
 "nbformat": 4,
 "nbformat_minor": 5
}
