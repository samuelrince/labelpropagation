{
 "cells": [
  {
   "cell_type": "code",
   "execution_count": 1,
   "id": "3b5dbfce-bb72-4aa4-9495-5efe652343b3",
   "metadata": {},
   "outputs": [],
   "source": [
    "import os\n",
    "os.chdir('..')"
   ]
  },
  {
   "cell_type": "code",
   "execution_count": 6,
   "id": "15b5a220-f53a-494b-9b4e-72afc89ef5a0",
   "metadata": {},
   "outputs": [
    {
     "name": "stdout",
     "output_type": "stream",
     "text": [
      "Collecting tqdm\n",
      "  Downloading tqdm-4.60.0-py2.py3-none-any.whl (75 kB)\n",
      "\u001b[K     |████████████████████████████████| 75 kB 5.5 MB/s eta 0:00:011\n",
      "\u001b[?25hInstalling collected packages: tqdm\n",
      "Successfully installed tqdm-4.60.0\n"
     ]
    }
   ],
   "source": [
    "!pip install tqdm"
   ]
  },
  {
   "cell_type": "code",
   "execution_count": 2,
   "id": "d728f4da-e7cd-411c-95c8-c314759fc6a9",
   "metadata": {},
   "outputs": [],
   "source": [
    "import random\n",
    "\n",
    "from tqdm import tqdm\n",
    "from collections import Counter"
   ]
  },
  {
   "cell_type": "code",
   "execution_count": 3,
   "id": "9333dbb0-d047-4aaa-9f17-d522451406f2",
   "metadata": {},
   "outputs": [],
   "source": [
    "graph = list()\n",
    "\n",
    "with open('./com-dblp/com-dblp-ungraph-100.txt', 'r') as f:\n",
    "    for line in f.readlines():\n",
    "        line = line.strip().split(' ')\n",
    "        n1 = int(line[0])\n",
    "        n2 = int(line[1])\n",
    "        graph.append((n1, n2))\n",
    "        \n",
    "labels = list()\n",
    "with open('./com-dblp/com-dblp.all.cmty.update.txt', 'r') as f:\n",
    "    for line in f.readlines():\n",
    "        line = line.strip().split(' ')\n",
    "        n = int(line[0])\n",
    "        i = int(line[1])\n",
    "        labels.append((n, i))"
   ]
  },
  {
   "cell_type": "code",
   "execution_count": 76,
   "id": "64443c46-43e2-4295-963e-a16f4b179ac9",
   "metadata": {},
   "outputs": [],
   "source": [
    "def drop_graph(graph, labels, rate=0.5):\n",
    "    new_graph = list()\n",
    "    nodes = set()\n",
    "    for n1, n2 in graph:\n",
    "        nodes.add(n1)\n",
    "        nodes.add(n2)\n",
    "    nodes = list(nodes)\n",
    "    nodes = random.choices(nodes, k=int(len(nodes)*rate))\n",
    "    nodes = set(nodes)\n",
    "    \n",
    "    for n1, n2 in graph:\n",
    "        if n1 in nodes and n2 in nodes:\n",
    "            new_graph.append((n1, n2))\n",
    "    \n",
    "    \n",
    "    new_labels = list()\n",
    "    for n, i in labels:\n",
    "        if n in nodes:\n",
    "            new_labels.append((n, i)) \n",
    "    \n",
    "    return new_graph, new_labels"
   ]
  },
  {
   "cell_type": "code",
   "execution_count": 97,
   "id": "b4776b37-2770-4b2f-80c2-88776afe1de2",
   "metadata": {},
   "outputs": [],
   "source": [
    "raw_cluster_id = [i for _, i in labels]"
   ]
  },
  {
   "cell_type": "code",
   "execution_count": 98,
   "id": "ae8be9fc-e999-480a-9b37-3144af2b750b",
   "metadata": {},
   "outputs": [],
   "source": [
    "cluster_counter = Counter(raw_cluster_id)"
   ]
  },
  {
   "cell_type": "code",
   "execution_count": 46,
   "id": "10122a31-5b9a-4b74-87d2-1b0645a5ee5c",
   "metadata": {},
   "outputs": [],
   "source": [
    "def drop_graph2(graph, labels, max_=100):\n",
    "    raw_cluster_id = [i for _, i in labels]\n",
    "    cluster_counter = Counter(raw_cluster_id)\n",
    "    cluster_list = [(id_, count) for id_, count in cluster_counter.items()]\n",
    "    ids = sorted([(id_, count) for id_, count in cluster_counter.items()], key=lambda x: x[1], reverse=True)\n",
    "    keep_ids = set([id_ for id_, _ in ids[:max_]])\n",
    "    \n",
    "    new_labels = list()\n",
    "    new_graph = list()\n",
    "    nodes = set()\n",
    "    \n",
    "    for n, i in labels:\n",
    "        if i in keep_ids:\n",
    "            new_labels.append((n, i))\n",
    "            nodes.add(n)\n",
    "    \n",
    "    for n1, n2 in graph:\n",
    "        if n1 in nodes or n2 in nodes:\n",
    "            new_graph.append((n1, n2))\n",
    "    \n",
    "    return new_graph, new_labels"
   ]
  },
  {
   "cell_type": "code",
   "execution_count": 49,
   "id": "f37c00d5-27f0-45cf-a07e-156f006c557d",
   "metadata": {},
   "outputs": [
    {
     "data": {
      "text/plain": [
       "(107915, 13509)"
      ]
     },
     "execution_count": 49,
     "metadata": {},
     "output_type": "execute_result"
    }
   ],
   "source": [
    "new_graph, new_labels = drop_graph2(graph, labels, max_=2)\n",
    "len(new_graph), len(new_labels)"
   ]
  },
  {
   "cell_type": "code",
   "execution_count": null,
   "id": "1d6c2a3e-b842-4337-8446-6f1f7792973f",
   "metadata": {},
   "outputs": [],
   "source": []
  },
  {
   "cell_type": "code",
   "execution_count": 50,
   "id": "c129bcae-37d6-4dbe-ac45-9f8e99f93219",
   "metadata": {},
   "outputs": [],
   "source": [
    "with open('./com-dblp/com-dblp-ungraph-custom.txt', 'w+') as f:\n",
    "    for line in new_graph:\n",
    "        f.write(f'{line[0]} {line[1]}' + '\\n')\n",
    "        \n",
    "with open('./com-dblp/com-dblp-label-custom.txt', 'w+') as f:\n",
    "    for line in new_labels:\n",
    "        f.write(f'{line[0]} {line[1]}' + '\\n')"
   ]
  },
  {
   "cell_type": "code",
   "execution_count": null,
   "id": "0b5094f5-8a17-4269-8f62-18ea11a41bcf",
   "metadata": {},
   "outputs": [],
   "source": []
  }
 ],
 "metadata": {
  "kernelspec": {
   "display_name": "Python 3",
   "language": "python",
   "name": "python3"
  },
  "language_info": {
   "codemirror_mode": {
    "name": "ipython",
    "version": 3
   },
   "file_extension": ".py",
   "mimetype": "text/x-python",
   "name": "python",
   "nbconvert_exporter": "python",
   "pygments_lexer": "ipython3",
   "version": "3.8.2"
  }
 },
 "nbformat": 4,
 "nbformat_minor": 5
}
