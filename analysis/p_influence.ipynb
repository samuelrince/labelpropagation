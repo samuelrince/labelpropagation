{
 "cells": [
  {
   "cell_type": "code",
   "execution_count": 1,
   "id": "20c6f692-83b9-4bc8-859b-4ff67719ff2b",
   "metadata": {},
   "outputs": [],
   "source": [
    "import os\n",
    "os.chdir('..')"
   ]
  },
  {
   "cell_type": "code",
   "execution_count": 9,
   "id": "65e74259-8fcc-4fb3-b204-bb14d0fe7307",
   "metadata": {},
   "outputs": [],
   "source": [
    "import re\n",
    "\n",
    "import numpy as np\n",
    "import pandas as pd\n",
    "import matplotlib.pyplot as plt\n",
    "\n",
    "from sklearn.metrics import accuracy_score\n"
   ]
  },
  {
   "cell_type": "code",
   "execution_count": 3,
   "id": "0c547739-ca30-409b-85b6-c26fe370660d",
   "metadata": {},
   "outputs": [],
   "source": [
    "def read_data(path):\n",
    "    data = list()\n",
    "    with open(path, 'r') as f:\n",
    "        for line in f.readlines():\n",
    "            if len(line) > 1:\n",
    "                line = re.sub(r'\\(|\\)', '', line)\n",
    "                line = line.strip().split(',')\n",
    "                id_ = int(line[0])\n",
    "                init_label = line[1] == 'true'\n",
    "                array = [float(e) for e in line[2:]]\n",
    "                data.append([id_, init_label, *array])\n",
    "    return data\n",
    "\n",
    "\n",
    "def read_init_label(path):\n",
    "    data = list()\n",
    "    with open(path, 'r') as f:\n",
    "        for line in f.readlines():\n",
    "            if len(line) > 1:\n",
    "                line = line.strip().split(' ')\n",
    "                id_ = int(line[0])\n",
    "                label = int(line[1])\n",
    "                data.append(label)\n",
    "    \n",
    "    return data\n",
    "\n",
    "\n",
    "def split_data(data):\n",
    "    initial = list()\n",
    "    result = list()\n",
    "    for item in data:\n",
    "        if item[1]:\n",
    "            initial.append(item)\n",
    "        else:\n",
    "            result.append(item)\n",
    "    return initial, result\n",
    "\n",
    "\n",
    "def compute_label(array):\n",
    "    return int(np.argmax(array))"
   ]
  },
  {
   "cell_type": "code",
   "execution_count": 4,
   "id": "10bf57d8-efd5-4109-893e-cb4801a3a5c9",
   "metadata": {},
   "outputs": [],
   "source": [
    "init_label = read_init_label('./email-eu-core/email-Eu-core-department-labels.txt')"
   ]
  },
  {
   "cell_type": "code",
   "execution_count": 5,
   "id": "05743f0a-a5b5-4fd7-a1c5-07fd5905e72b",
   "metadata": {},
   "outputs": [],
   "source": [
    "scores = list()\n",
    "\n",
    "for root, _, files in os.walk('./output/p_influence/'):\n",
    "    for file in files:\n",
    "        if file.endswith('.txt'):\n",
    "            fp = os.path.join(root, file)\n",
    "            p = float(f'0.{file[6:8]}')\n",
    "            data = read_data(fp)\n",
    "            _, res = split_data(data)\n",
    "            \n",
    "            pred = list()\n",
    "            true = list()\n",
    "            for item in res:\n",
    "                id_ = item[0]\n",
    "                array = item[2:]\n",
    "                pred.append(compute_label(array))\n",
    "                true.append(init_label[id_])\n",
    "                \n",
    "            scores.append((p, accuracy_score(true, pred)))"
   ]
  },
  {
   "cell_type": "code",
   "execution_count": 7,
   "id": "7a202c64-b178-49ca-ac5c-7e09babeb329",
   "metadata": {},
   "outputs": [],
   "source": [
    "scores = sorted(scores, key=lambda x: x[0], reverse=True)"
   ]
  },
  {
   "cell_type": "code",
   "execution_count": 17,
   "id": "53dc2e8f-a59b-473f-bf72-7959f2c4d977",
   "metadata": {},
   "outputs": [
    {
     "data": {
      "image/png": "[encoded data removed]",
      "text/plain": [
       "<Figure size 600x400 with 1 Axes>"
      ]
     },
     "metadata": {
      "needs_background": "light"
     },
     "output_type": "display_data"
    }
   ],
   "source": [
    "x = [i for i, _ in scores]\n",
    "y = [i for _, i in scores]\n",
    "plt.figure(dpi=100)\n",
    "plt.plot(x, y)\n",
    "plt.title('Influence of the proportion of masked nodes')\n",
    "plt.xlabel('Propotion of masked nodes')\n",
    "plt.ylabel('Accuracy')\n",
    "plt.show()"
   ]
  },
  {
   "cell_type": "code",
   "execution_count": null,
   "id": "ac4671ac-d2b9-49d3-bbcb-3d15a04d246f",
   "metadata": {},
   "outputs": [],
   "source": []
  }
 ],
 "metadata": {
  "kernelspec": {
   "display_name": "Python 3",
   "language": "python",
   "name": "python3"
  },
  "language_info": {
   "codemirror_mode": {
    "name": "ipython",
    "version": 3
   },
   "file_extension": ".py",
   "mimetype": "text/x-python",
   "name": "python",
   "nbconvert_exporter": "python",
   "pygments_lexer": "ipython3",
   "version": "3.8.2"
  }
 },
 "nbformat": 4,
 "nbformat_minor": 5
}
