{
 "cells": [
  {
   "cell_type": "code",
   "execution_count": 1,
   "id": "steady-specific",
   "metadata": {},
   "outputs": [],
   "source": [
    "import random as rd\n",
    "import networkx as nx"
   ]
  },
  {
   "cell_type": "markdown",
   "id": "direct-bailey",
   "metadata": {},
   "source": [
    "### Subsample egdes on a graph"
   ]
  },
  {
   "cell_type": "code",
   "execution_count": 2,
   "id": "developing-serbia",
   "metadata": {},
   "outputs": [],
   "source": [
    "# Sample edges \n",
    "G = nx.read_edgelist(\"./email/email-Eu-core.txt\")\n",
    "\n",
    "k = 5000 # Nombre d'aretes a enlever\n",
    "remaining_egdes = len(G.edges) - k\n",
    "G.remove_edges_from(rd.sample(G.edges(), k))\n",
    "nx.write_edgelist(G, f\"./email/email-Eu-core-{remaining_egdes}-edges.txt\")\n",
    "\n",
    "# Filter labels\n",
    "f = open(\"./email/email-Eu-core-department-labels.txt\", \"r\")\n",
    "nodes = f.readlines()\n",
    "f.close()\n",
    "\n",
    "selected_nodes = map(lambda i : int(i), G.nodes)\n",
    "to_keep = [nodes[i] for i in selected_nodes]\n",
    "\n",
    "f = open(f\"./email/email-Eu-core-department-labels-{remaining_egdes}-edges.txt.txt\", \"w\")\n",
    "f.writelines(to_keep)\n",
    "f.close()\n",
    "\n"
   ]
  },
  {
   "cell_type": "markdown",
   "id": "equal-season",
   "metadata": {},
   "source": [
    "### Subsample nodes on a graph"
   ]
  },
  {
   "cell_type": "code",
   "execution_count": 3,
   "id": "funded-corrections",
   "metadata": {},
   "outputs": [],
   "source": [
    "# Sample nodes \n",
    "G = nx.read_edgelist(\"./email/email-Eu-core.txt\")\n",
    "\n",
    "k = 500 # Nombre de noeuds a enlever\n",
    "remaining_nodes = len(G.nodes) - k\n",
    "G.remove_nodes_from(rd.sample(G.nodes(),k))\n",
    "nx.write_edgelist(G, f\"./email/email-Eu-core-{remaining_nodes}-edges.txt\")\n",
    "\n",
    "# Filter labels\n",
    "f = open(\"./email/email-Eu-core-department-labels.txt\", \"r\")\n",
    "nodes = f.readlines()\n",
    "f.close()\n",
    "\n",
    "selected_nodes = map(lambda i : int(i), G.nodes)\n",
    "to_keep = [nodes[i] for i in selected_nodes]\n",
    "\n",
    "f = open(f\"./email/email-Eu-core-department-labels-{remaining_nodes}-nodes.txt.txt\", \"w\")\n",
    "f.writelines(to_keep)\n",
    "f.close()"
   ]
  }
 ],
 "metadata": {
  "kernelspec": {
   "display_name": "Python 3",
   "language": "python",
   "name": "python3"
  },
  "language_info": {
   "codemirror_mode": {
    "name": "ipython",
    "version": 3
   },
   "file_extension": ".py",
   "mimetype": "text/x-python",
   "name": "python",
   "nbconvert_exporter": "python",
   "pygments_lexer": "ipython3",
   "version": "3.8.5"
  }
 },
 "nbformat": 4,
 "nbformat_minor": 5
}
